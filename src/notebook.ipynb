{
 "cells": [
  {
   "cell_type": "markdown",
   "metadata": {
    "_uuid": "41e564c86857159093e834f570b21603596794f9"
   },
   "source": [
    "# Neural Survivor"
   ]
  },
  {
   "cell_type": "markdown",
   "metadata": {
    "_uuid": "ccb6498725c4adc8e8e4577a4189c0f8c935b755"
   },
   "source": [
    "## Pre-reqs"
   ]
  },
  {
   "cell_type": "code",
   "execution_count": 1,
   "metadata": {
    "_cell_guid": "52e559e4-e9a1-4f0b-9ef5-725b7c086266",
    "_uuid": "016324e8b937bddbfd7e1428b73757a86cab81f4",
    "collapsed": true
   },
   "outputs": [],
   "source": [
    "# Load the libraries\n",
    "import numpy as np # linear algebra\n",
    "import pandas as pd # data processing, CSV file I/O (e.g. pd.read_csv)"
   ]
  },
  {
   "cell_type": "code",
   "execution_count": 2,
   "metadata": {
    "_uuid": "bdc0b6d3322896b708a8307024cd942880616c48"
   },
   "outputs": [],
   "source": [
    "# Load the input files\n",
    "train_data = pd.read_csv('../data/train.csv')\n",
    "test_data = pd.read_csv('../data/test.csv')"
   ]
  },
  {
   "cell_type": "markdown",
   "metadata": {
    "_uuid": "360afe0c1b7d8a0dfbfc9134f251733e6b5f73c4"
   },
   "source": [
    "## Fixing the Data"
   ]
  },
  {
   "cell_type": "markdown",
   "metadata": {
    "_uuid": "8a6613cf2abff88f21ab3a183f02b8d0939c43e0"
   },
   "source": [
    "### Finding the Null values"
   ]
  },
  {
   "cell_type": "code",
   "execution_count": 3,
   "metadata": {
    "_uuid": "ffb411b9ebeaaa50d396a6d4b988b3245da20484"
   },
   "outputs": [
    {
     "name": "stdout",
     "output_type": "stream",
     "text": [
      "<class 'pandas.core.frame.DataFrame'>\n",
      "RangeIndex: 891 entries, 0 to 890\n",
      "Data columns (total 12 columns):\n",
      "PassengerId    891 non-null int64\n",
      "Survived       891 non-null int64\n",
      "Pclass         891 non-null int64\n",
      "Name           891 non-null object\n",
      "Sex            891 non-null object\n",
      "Age            714 non-null float64\n",
      "SibSp          891 non-null int64\n",
      "Parch          891 non-null int64\n",
      "Ticket         891 non-null object\n",
      "Fare           891 non-null float64\n",
      "Cabin          204 non-null object\n",
      "Embarked       889 non-null object\n",
      "dtypes: float64(2), int64(5), object(5)\n",
      "memory usage: 83.6+ KB\n"
     ]
    }
   ],
   "source": [
    "train_data.info()"
   ]
  },
  {
   "cell_type": "code",
   "execution_count": 4,
   "metadata": {
    "_uuid": "e99bf5f0741935cb1e09ca90b2ab32f8e7c387a2"
   },
   "outputs": [
    {
     "name": "stdout",
     "output_type": "stream",
     "text": [
      "<class 'pandas.core.frame.DataFrame'>\n",
      "RangeIndex: 418 entries, 0 to 417\n",
      "Data columns (total 11 columns):\n",
      "PassengerId    418 non-null int64\n",
      "Pclass         418 non-null int64\n",
      "Name           418 non-null object\n",
      "Sex            418 non-null object\n",
      "Age            332 non-null float64\n",
      "SibSp          418 non-null int64\n",
      "Parch          418 non-null int64\n",
      "Ticket         418 non-null object\n",
      "Fare           417 non-null float64\n",
      "Cabin          91 non-null object\n",
      "Embarked       418 non-null object\n",
      "dtypes: float64(2), int64(4), object(5)\n",
      "memory usage: 36.0+ KB\n"
     ]
    }
   ],
   "source": [
    "test_data.info()"
   ]
  },
  {
   "cell_type": "markdown",
   "metadata": {
    "_uuid": "eed9a3c6b5bcd2e06559da0f0adad03a5968daa5"
   },
   "source": [
    "### Discarding data"
   ]
  },
  {
   "cell_type": "code",
   "execution_count": 5,
   "metadata": {
    "_uuid": "65e0210567b007a38552274405aff9fabbc24e92",
    "collapsed": true
   },
   "outputs": [],
   "source": [
    "\"\"\"\n",
    "Discard un-necessary or improper data\n",
    "\n",
    "Passenger ID, Name or Ticket: These are not relevant to survival, so we can discard them\n",
    "Cabin: This has too many null values and hence cannot be used well, even though this might\n",
    "be critical to survival!\n",
    "\"\"\"\n",
    "train_data = train_data.drop(['PassengerId', 'Name', 'Cabin', 'Ticket'], axis=1)\n",
    "test_data = test_data.drop(['Name', 'Cabin', 'Ticket'], axis=1)"
   ]
  },
  {
   "cell_type": "markdown",
   "metadata": {
    "_uuid": "d5061787a59bbabfa6ce3345b2e1828dd32a51c1"
   },
   "source": [
    "### Fixing Age"
   ]
  },
  {
   "cell_type": "code",
   "execution_count": 6,
   "metadata": {
    "_uuid": "dc7263d451d12a6a1812d9019aedaf8fe4dbbf52"
   },
   "outputs": [
    {
     "name": "stderr",
     "output_type": "stream",
     "text": [
      "/home/karti/.conda/envs/openai/lib/python3.5/site-packages/ipykernel_launcher.py:22: SettingWithCopyWarning: \n",
      "A value is trying to be set on a copy of a slice from a DataFrame\n",
      "\n",
      "See the caveats in the documentation: http://pandas.pydata.org/pandas-docs/stable/indexing.html#indexing-view-versus-copy\n",
      "/home/karti/.conda/envs/openai/lib/python3.5/site-packages/ipykernel_launcher.py:23: SettingWithCopyWarning: \n",
      "A value is trying to be set on a copy of a slice from a DataFrame\n",
      "\n",
      "See the caveats in the documentation: http://pandas.pydata.org/pandas-docs/stable/indexing.html#indexing-view-versus-copy\n"
     ]
    }
   ],
   "source": [
    "# get average, std, and number of NaN values in titanic_df\n",
    "average_age_train   = train_data[\"Age\"].mean()\n",
    "std_age_train       = train_data[\"Age\"].std()\n",
    "count_nan_age_train = train_data[\"Age\"].isnull().sum()\n",
    "\n",
    "# get average, std, and number of NaN values in test_df\n",
    "average_age_test   = test_data[\"Age\"].mean()\n",
    "std_age_test       = test_data[\"Age\"].std()\n",
    "count_nan_age_test = test_data[\"Age\"].isnull().sum()\n",
    "\n",
    "# generate random numbers between (mean - std) & (mean + std)\n",
    "rand_1 = np.random.randint(\n",
    "    average_age_train - std_age_train, \n",
    "    average_age_train + std_age_train, \n",
    "    size = count_nan_age_train)\n",
    "rand_2 = np.random.randint(\n",
    "    average_age_test - std_age_test, \n",
    "    average_age_test + std_age_test, \n",
    "    size = count_nan_age_test)\n",
    "\n",
    "# fill NaN values in Age column with random values generated\n",
    "train_data[\"Age\"][np.isnan(train_data[\"Age\"])] = rand_1\n",
    "test_data[\"Age\"][np.isnan(test_data[\"Age\"])] = rand_2\n",
    "\n",
    "# convert from float to int\n",
    "train_data['Age']    = train_data['Age'].astype(int)\n",
    "test_data['Age']     = test_data['Age'].astype(int)\n",
    "\n",
    "\n",
    "del average_age_train\n",
    "del std_age_train\n",
    "del count_nan_age_train\n",
    "del average_age_test\n",
    "del std_age_test\n",
    "del count_nan_age_test\n",
    "del rand_1\n",
    "del rand_2"
   ]
  },
  {
   "cell_type": "markdown",
   "metadata": {
    "_uuid": "b2aae4f1522b388994f0e3bd922652f1b65dee3c"
   },
   "source": [
    "### Fixing Fare"
   ]
  },
  {
   "cell_type": "code",
   "execution_count": 7,
   "metadata": {
    "_uuid": "d17b1014547d25df7c0812d005e1d5cc060c6f06",
    "collapsed": true
   },
   "outputs": [],
   "source": [
    "# only for test_df, since there is a missing \"Fare\" values\n",
    "test_data[\"Fare\"].fillna(test_data[\"Fare\"].median(), inplace=True)\n",
    "\n",
    "# convert from float to int\n",
    "train_data['Fare']   = train_data['Fare'].astype(int)\n",
    "test_data['Fare']    = test_data['Fare'].astype(int)"
   ]
  },
  {
   "cell_type": "markdown",
   "metadata": {},
   "source": [
    "### Fixing Embarked"
   ]
  },
  {
   "cell_type": "code",
   "execution_count": 8,
   "metadata": {},
   "outputs": [],
   "source": [
    "# Fill empty embarked values with the most common value\n",
    "common_embark = train_data.Embarked.value_counts().idxmax(axis=1)\n",
    "train_data[\"Embarked\"] = train_data[\"Embarked\"].fillna(common_embark)\n",
    "del common_embark"
   ]
  },
  {
   "cell_type": "markdown",
   "metadata": {
    "_uuid": "cdbedb624e70055be8c39b6d43507a3e190d1149"
   },
   "source": [
    "### Check that the data is now fixed"
   ]
  },
  {
   "cell_type": "code",
   "execution_count": 9,
   "metadata": {
    "_uuid": "d351a6633c1e1025711185b69696ff59b5fe27a8"
   },
   "outputs": [
    {
     "name": "stdout",
     "output_type": "stream",
     "text": [
      "<class 'pandas.core.frame.DataFrame'>\n",
      "RangeIndex: 891 entries, 0 to 890\n",
      "Data columns (total 8 columns):\n",
      "Survived    891 non-null int64\n",
      "Pclass      891 non-null int64\n",
      "Sex         891 non-null object\n",
      "Age         891 non-null int64\n",
      "SibSp       891 non-null int64\n",
      "Parch       891 non-null int64\n",
      "Fare        891 non-null int64\n",
      "Embarked    891 non-null object\n",
      "dtypes: int64(6), object(2)\n",
      "memory usage: 55.8+ KB\n"
     ]
    }
   ],
   "source": [
    "train_data.info()"
   ]
  },
  {
   "cell_type": "code",
   "execution_count": 10,
   "metadata": {
    "_uuid": "6a68fb11e7f0656d6dd4dcb49b38bf18be3ce0b4"
   },
   "outputs": [
    {
     "name": "stdout",
     "output_type": "stream",
     "text": [
      "<class 'pandas.core.frame.DataFrame'>\n",
      "RangeIndex: 418 entries, 0 to 417\n",
      "Data columns (total 8 columns):\n",
      "PassengerId    418 non-null int64\n",
      "Pclass         418 non-null int64\n",
      "Sex            418 non-null object\n",
      "Age            418 non-null int64\n",
      "SibSp          418 non-null int64\n",
      "Parch          418 non-null int64\n",
      "Fare           418 non-null int64\n",
      "Embarked       418 non-null object\n",
      "dtypes: int64(6), object(2)\n",
      "memory usage: 26.2+ KB\n"
     ]
    }
   ],
   "source": [
    "test_data.info()"
   ]
  },
  {
   "cell_type": "markdown",
   "metadata": {
    "_uuid": "c49b0d1d447fbc5d71657fb764d0c8eb4faaa63b"
   },
   "source": [
    "## Re-formatting the data"
   ]
  },
  {
   "cell_type": "code",
   "execution_count": 11,
   "metadata": {
    "_uuid": "b4f6540f8819448128e9598a2359ec52ef600d84"
   },
   "outputs": [],
   "source": [
    "# Maps\n",
    "sex_map = {'male': 0, 'female': 1}\n",
    "embark_map = {'S': 0, 'C': 1, 'Q': 2}"
   ]
  },
  {
   "cell_type": "code",
   "execution_count": 12,
   "metadata": {
    "collapsed": true
   },
   "outputs": [],
   "source": [
    "# Change all the string values to int\n",
    "train_data['Sex'].replace(sex_map, inplace=True)\n",
    "train_data['Embarked'].replace(embark_map, inplace=True)\n",
    "test_data['Sex'].replace(sex_map, inplace=True)\n",
    "test_data['Embarked'].replace(embark_map, inplace=True)\n",
    "del sex_map\n",
    "del embark_map"
   ]
  },
  {
   "cell_type": "code",
   "execution_count": 13,
   "metadata": {},
   "outputs": [
    {
     "name": "stdout",
     "output_type": "stream",
     "text": [
      "<class 'pandas.core.frame.DataFrame'>\n",
      "RangeIndex: 891 entries, 0 to 890\n",
      "Data columns (total 8 columns):\n",
      "Survived    891 non-null int64\n",
      "Pclass      891 non-null int64\n",
      "Sex         891 non-null int64\n",
      "Age         891 non-null int64\n",
      "SibSp       891 non-null int64\n",
      "Parch       891 non-null int64\n",
      "Fare        891 non-null int64\n",
      "Embarked    891 non-null int64\n",
      "dtypes: int64(8)\n",
      "memory usage: 55.8 KB\n"
     ]
    }
   ],
   "source": [
    "train_data.info()"
   ]
  },
  {
   "cell_type": "code",
   "execution_count": 14,
   "metadata": {},
   "outputs": [
    {
     "name": "stdout",
     "output_type": "stream",
     "text": [
      "<class 'pandas.core.frame.DataFrame'>\n",
      "RangeIndex: 418 entries, 0 to 417\n",
      "Data columns (total 8 columns):\n",
      "PassengerId    418 non-null int64\n",
      "Pclass         418 non-null int64\n",
      "Sex            418 non-null int64\n",
      "Age            418 non-null int64\n",
      "SibSp          418 non-null int64\n",
      "Parch          418 non-null int64\n",
      "Fare           418 non-null int64\n",
      "Embarked       418 non-null int64\n",
      "dtypes: int64(8)\n",
      "memory usage: 26.2 KB\n"
     ]
    }
   ],
   "source": [
    "test_data.info()"
   ]
  },
  {
   "cell_type": "markdown",
   "metadata": {},
   "source": [
    "## Data"
   ]
  },
  {
   "cell_type": "code",
   "execution_count": 15,
   "metadata": {
    "collapsed": true
   },
   "outputs": [],
   "source": [
    "X_train = train_data.drop(['Survived'],axis=1).values\n",
    "y_train = train_data['Survived'].values\n",
    "X_test = test_data.drop(['PassengerId'],axis=1).values"
   ]
  },
  {
   "cell_type": "markdown",
   "metadata": {
    "_uuid": "d0ec88e7933e2006956a0b82f08ebe7874d7edfc"
   },
   "source": [
    "## Model"
   ]
  },
  {
   "cell_type": "code",
   "execution_count": 16,
   "metadata": {},
   "outputs": [
    {
     "name": "stderr",
     "output_type": "stream",
     "text": [
      "Using TensorFlow backend.\n"
     ]
    }
   ],
   "source": [
    "from keras.models import Sequential\n",
    "from keras.layers import Dense, Dropout\n",
    "from keras.callbacks import ModelCheckpoint, EarlyStopping\n",
    "from keras.optimizers import Adam"
   ]
  },
  {
   "cell_type": "code",
   "execution_count": 17,
   "metadata": {
    "collapsed": true
   },
   "outputs": [],
   "source": [
    "dropout = 0.2\n",
    "epochs = 10000\n",
    "lr = 1e-4"
   ]
  },
  {
   "cell_type": "code",
   "execution_count": 18,
   "metadata": {
    "_uuid": "ee71b1a423617b05add1ad9a3f5ecc909b3a66c5"
   },
   "outputs": [
    {
     "name": "stdout",
     "output_type": "stream",
     "text": [
      "_________________________________________________________________\n",
      "Layer (type)                 Output Shape              Param #   \n",
      "=================================================================\n",
      "dense_1 (Dense)              (None, 16)                128       \n",
      "_________________________________________________________________\n",
      "dropout_1 (Dropout)          (None, 16)                0         \n",
      "_________________________________________________________________\n",
      "dense_2 (Dense)              (None, 32)                544       \n",
      "_________________________________________________________________\n",
      "dropout_2 (Dropout)          (None, 32)                0         \n",
      "_________________________________________________________________\n",
      "dense_3 (Dense)              (None, 64)                2112      \n",
      "_________________________________________________________________\n",
      "dropout_3 (Dropout)          (None, 64)                0         \n",
      "_________________________________________________________________\n",
      "dense_4 (Dense)              (None, 128)               8320      \n",
      "_________________________________________________________________\n",
      "dropout_4 (Dropout)          (None, 128)               0         \n",
      "_________________________________________________________________\n",
      "dense_5 (Dense)              (None, 256)               33024     \n",
      "_________________________________________________________________\n",
      "dropout_5 (Dropout)          (None, 256)               0         \n",
      "_________________________________________________________________\n",
      "dense_6 (Dense)              (None, 128)               32896     \n",
      "_________________________________________________________________\n",
      "dropout_6 (Dropout)          (None, 128)               0         \n",
      "_________________________________________________________________\n",
      "dense_7 (Dense)              (None, 64)                8256      \n",
      "_________________________________________________________________\n",
      "dropout_7 (Dropout)          (None, 64)                0         \n",
      "_________________________________________________________________\n",
      "dense_8 (Dense)              (None, 32)                2080      \n",
      "_________________________________________________________________\n",
      "dropout_8 (Dropout)          (None, 32)                0         \n",
      "_________________________________________________________________\n",
      "dense_9 (Dense)              (None, 16)                528       \n",
      "_________________________________________________________________\n",
      "dropout_9 (Dropout)          (None, 16)                0         \n",
      "_________________________________________________________________\n",
      "dense_10 (Dense)             (None, 8)                 136       \n",
      "_________________________________________________________________\n",
      "dropout_10 (Dropout)         (None, 8)                 0         \n",
      "_________________________________________________________________\n",
      "dense_11 (Dense)             (None, 4)                 36        \n",
      "_________________________________________________________________\n",
      "dropout_11 (Dropout)         (None, 4)                 0         \n",
      "_________________________________________________________________\n",
      "dense_12 (Dense)             (None, 2)                 10        \n",
      "_________________________________________________________________\n",
      "dropout_12 (Dropout)         (None, 2)                 0         \n",
      "_________________________________________________________________\n",
      "dense_13 (Dense)             (None, 1)                 3         \n",
      "=================================================================\n",
      "Total params: 88,073\n",
      "Trainable params: 88,073\n",
      "Non-trainable params: 0\n",
      "_________________________________________________________________\n"
     ]
    }
   ],
   "source": [
    "# Form the model\n",
    "model = Sequential()\n",
    "model.add(Dense(16, input_shape=(7,), activation='relu'))\n",
    "model.add(Dropout(dropout))\n",
    "model.add(Dense(32, activation='relu'))\n",
    "model.add(Dropout(dropout))\n",
    "model.add(Dense(64, activation='relu'))\n",
    "model.add(Dropout(dropout))\n",
    "model.add(Dense(128, activation='relu'))\n",
    "model.add(Dropout(dropout))\n",
    "model.add(Dense(256, activation='relu'))\n",
    "model.add(Dropout(dropout))\n",
    "model.add(Dense(128, activation='relu'))\n",
    "model.add(Dropout(dropout))\n",
    "model.add(Dense(64, activation='relu'))\n",
    "model.add(Dropout(dropout))\n",
    "model.add(Dense(32, activation='relu'))\n",
    "model.add(Dropout(dropout))\n",
    "model.add(Dense(16, activation='relu'))\n",
    "model.add(Dropout(dropout))\n",
    "model.add(Dense(8, activation='relu'))\n",
    "model.add(Dropout(dropout))\n",
    "model.add(Dense(4, activation='relu'))\n",
    "model.add(Dropout(dropout))\n",
    "model.add(Dense(2, activation='relu'))\n",
    "model.add(Dropout(dropout))\n",
    "model.add(Dense(1, activation='sigmoid'))\n",
    "model.summary()"
   ]
  },
  {
   "cell_type": "code",
   "execution_count": 19,
   "metadata": {
    "collapsed": true
   },
   "outputs": [],
   "source": [
    "# Compile and build the model\n",
    "model.compile(optimizer=Adam(lr=lr),\n",
    "              loss='binary_crossentropy',\n",
    "              metrics=['accuracy'])"
   ]
  },
  {
   "cell_type": "code",
   "execution_count": 20,
   "metadata": {
    "collapsed": true
   },
   "outputs": [],
   "source": [
    "# Define callbacks\n",
    "cbk_ckpt = ModelCheckpoint('../models/best.hdf5', save_best_only=True)\n",
    "cbk_stop = EarlyStopping(patience=100)"
   ]
  },
  {
   "cell_type": "code",
   "execution_count": 21,
   "metadata": {},
   "outputs": [
    {
     "data": {
      "text/plain": [
       "0.82681566476821899"
      ]
     },
     "execution_count": 21,
     "metadata": {},
     "output_type": "execute_result"
    }
   ],
   "source": [
    "# Train the model, iterating on the data in batches of 32 samples\n",
    "history = model.fit(\n",
    "    X_train,\n",
    "    y_train, \n",
    "    epochs=epochs, \n",
    "    batch_size=1024,\n",
    "    validation_split=0.2,\n",
    "    #callbacks=[cbk_ckpt, cbk_stop],\n",
    "    verbose=0)\n",
    "\n",
    "max(history.history['val_acc'])"
   ]
  },
  {
   "cell_type": "code",
   "execution_count": 22,
   "metadata": {},
   "outputs": [
    {
     "data": {
      "image/png": "[encoded data removed]",
      "text/plain": [
       "<matplotlib.figure.Figure at 0x7fef557666a0>"
      ]
     },
     "metadata": {},
     "output_type": "display_data"
    }
   ],
   "source": [
    "# Plot the training & validation accuracy\n",
    "import matplotlib.pyplot as plt\n",
    "\n",
    "plt.plot(history.history['acc'])\n",
    "plt.plot(history.history['val_acc'])\n",
    "plt.title('model accuracy')\n",
    "plt.ylabel('accuracy')\n",
    "plt.xlabel('epoch')\n",
    "plt.legend(['train', 'cross validation'], loc='upper left')\n",
    "plt.show()"
   ]
  },
  {
   "cell_type": "code",
   "execution_count": 23,
   "metadata": {},
   "outputs": [
    {
     "data": {
      "image/png": "[encoded data removed]",
      "text/plain": [
       "<matplotlib.figure.Figure at 0x7fef346be0b8>"
      ]
     },
     "metadata": {},
     "output_type": "display_data"
    }
   ],
   "source": [
    "plt.plot(history.history['loss'])\n",
    "plt.plot(history.history['val_loss'])\n",
    "plt.title('model loss')\n",
    "plt.ylabel('loss')\n",
    "plt.xlabel('epoch')\n",
    "plt.legend(['train', 'cross validation'], loc='upper left')\n",
    "plt.show()"
   ]
  },
  {
   "cell_type": "code",
   "execution_count": null,
   "metadata": {
    "collapsed": true
   },
   "outputs": [],
   "source": []
  }
 ],
 "metadata": {
  "kernelspec": {
   "display_name": "Python 3",
   "language": "python",
   "name": "python3"
  },
  "language_info": {
   "codemirror_mode": {
    "name": "ipython",
    "version": 3
   },
   "file_extension": ".py",
   "mimetype": "text/x-python",
   "name": "python",
   "nbconvert_exporter": "python",
   "pygments_lexer": "ipython3",
   "version": "3.5.4"
  }
 },
 "nbformat": 4,
 "nbformat_minor": 1
}
